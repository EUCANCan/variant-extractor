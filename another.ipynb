{
 "cells": [
  {
   "cell_type": "code",
   "execution_count": 2,
   "metadata": {},
   "outputs": [],
   "source": [
    "import pysam\n",
    "import numpy as np"
   ]
  },
  {
   "cell_type": "code",
   "execution_count": 3,
   "metadata": {},
   "outputs": [],
   "source": [
    "REF_FASTA = '../insilico-builder/test_data/ref_38/hg38.fa'\n",
    "fasta = pysam.FastaFile(REF_FASTA)"
   ]
  },
  {
   "cell_type": "code",
   "execution_count": 4,
   "metadata": {},
   "outputs": [],
   "source": [
    "ref = 'GGTTGATAATCCAGTGACCTGAAG'\n",
    "alt = 'GATCGAAAA'\n",
    "pos = 30673289\n",
    "chrom = '10'"
   ]
  },
  {
   "cell_type": "code",
   "execution_count": 5,
   "metadata": {},
   "outputs": [
    {
     "ename": "IndexError",
     "evalue": "string index out of range",
     "output_type": "error",
     "traceback": [
      "\u001b[0;31m---------------------------------------------------------------------------\u001b[0m",
      "\u001b[0;31mIndexError\u001b[0m                                Traceback (most recent call last)",
      "\u001b[1;32m/home/rapsss/variant-extractor/another.ipynb Cell 4'\u001b[0m in \u001b[0;36m<cell line: 4>\u001b[0;34m()\u001b[0m\n\u001b[1;32m     <a href='vscode-notebook-cell://wsl%2Bubuntu-20.04/home/rapsss/variant-extractor/another.ipynb#ch0000003vscode-remote?line=10'>11</a>\u001b[0m \u001b[39mwhile\u001b[39;00m i_alt \u001b[39m<\u001b[39m \u001b[39mlen\u001b[39m(alt):\n\u001b[1;32m     <a href='vscode-notebook-cell://wsl%2Bubuntu-20.04/home/rapsss/variant-extractor/another.ipynb#ch0000003vscode-remote?line=11'>12</a>\u001b[0m     i_alt \u001b[39m+\u001b[39m\u001b[39m=\u001b[39m \u001b[39m1\u001b[39m\n\u001b[0;32m---> <a href='vscode-notebook-cell://wsl%2Bubuntu-20.04/home/rapsss/variant-extractor/another.ipynb#ch0000003vscode-remote?line=12'>13</a>\u001b[0m     \u001b[39mif\u001b[39;00m alt[i_alt] \u001b[39m==\u001b[39m next_ref:\n\u001b[1;32m     <a href='vscode-notebook-cell://wsl%2Bubuntu-20.04/home/rapsss/variant-extractor/another.ipynb#ch0000003vscode-remote?line=13'>14</a>\u001b[0m         \u001b[39mbreak\u001b[39;00m\n",
      "\u001b[0;31mIndexError\u001b[0m: string index out of range"
     ]
    }
   ],
   "source": [
    "i_ref = 0\n",
    "i_alt = 0\n",
    "\n",
    "while i_ref < len(ref) or i_alt < len(alt):\n",
    "    if ref[i_ref] == alt[i_alt]:\n",
    "        i_ref += 1\n",
    "        i_alt += 1\n",
    "    else:\n",
    "        next_ref = ref[i_ref + 1]\n",
    "        prev_i_alt = i_alt\n",
    "        while i_alt < len(alt):\n",
    "            i_alt += 1\n",
    "            if alt[i_alt] == next_ref:\n",
    "                break\n",
    "        \n",
    "        "
   ]
  },
  {
   "cell_type": "code",
   "execution_count": null,
   "metadata": {},
   "outputs": [],
   "source": [
    "10\t10486656\tTTCCTTTGAGCGTCATGTCAGTGGTGAT\tTTTTGAGCGTCATGTCAGTGGTGATC"
   ]
  },
  {
   "cell_type": "code",
   "execution_count": 35,
   "metadata": {},
   "outputs": [
    {
     "name": "stdout",
     "output_type": "stream",
     "text": [
      "(3, 9, 5)\n",
      "Longest Common Substring:  TAA\n"
     ]
    }
   ],
   "source": [
    "# Function to find the length of the longest LCS\n",
    "def LCSubStr(s, t):\n",
    "    n = len(s)\n",
    "    m = len(t)\n",
    "\n",
    "    # Create DP table\n",
    "    dp = np.zeros((2, m+1), dtype=int)\n",
    "    res = 0\n",
    "    lcs_i = 0\n",
    "    lcs_j = 0\n",
    "\n",
    "    for i in range(1, n + 1):\n",
    "        for j in range(1, m + 1):\n",
    "            if s[i - 1] == t[j - 1]:\n",
    "                dp[i % 2][j] = dp[(i - 1) % 2][j - 1] + 1\n",
    "                if dp[i % 2][j] > res:\n",
    "                    res = dp[i % 2][j]\n",
    "                    lcs_i = i - res\n",
    "                    lcs_j = j - res\n",
    "            else:\n",
    "                dp[i % 2][j] = 0\n",
    "    return res, lcs_i, lcs_j\n",
    "\n",
    "\n",
    "# Driver Code\n",
    "X = \"TTTAGGAGTTAAAGGTG\"\n",
    "Y = \"TCAGCTAAT\"\n",
    "# X = 'ababc'\n",
    "# Y = 'abcdaba'\n",
    "\n",
    "# Function call\n",
    "sub_info = LCSubStr(X, Y)\n",
    "print(sub_info)\n",
    "print(\"Longest Common Substring: \", X[sub_info[1]:sub_info[1]+sub_info[0]])\n"
   ]
  },
  {
   "cell_type": "code",
   "execution_count": 40,
   "metadata": {},
   "outputs": [
    {
     "name": "stdout",
     "output_type": "stream",
     "text": [
      "[('', ''), ('ATCCCC', 'G'), ('TCTGTCACTTCCTCAGTGG', 'A')]\n"
     ]
    }
   ],
   "source": [
    "X = \"GATCCCCTTTCTGTCACTTCCTCAGTGG\"\n",
    "Y = \"GGTTA\"\n",
    "\n",
    "resulting_variants = []\n",
    "\n",
    "missing_variants = [(X, Y)]\n",
    "\n",
    "while len(missing_variants) > 0:\n",
    "    ref, alt = missing_variants.pop()\n",
    "    if len(ref) <= 1 or len(alt) <= 1 or len(ref) == len(alt):\n",
    "        resulting_variants.append((ref, alt))\n",
    "        continue\n",
    "    lcs_len, lcs_i, lcs_j = LCSubStr(ref, alt)\n",
    "    if lcs_len == 0:\n",
    "        resulting_variants.append((ref, alt))\n",
    "        continue\n",
    "    missing_variants.append((ref[:lcs_i], alt[:lcs_j]))\n",
    "    missing_variants.append((ref[lcs_i+lcs_len:], alt[lcs_j+lcs_len:]))\n",
    "\n",
    "print(resulting_variants[::-1])\n"
   ]
  },
  {
   "cell_type": "code",
   "execution_count": 8,
   "metadata": {},
   "outputs": [
    {
     "ename": "SyntaxError",
     "evalue": "invalid syntax (2327591232.py, line 4)",
     "output_type": "error",
     "traceback": [
      "\u001b[0;36m  Input \u001b[0;32mIn [8]\u001b[0;36m\u001b[0m\n\u001b[0;31m    GC G\u001b[0m\n\u001b[0m       ^\u001b[0m\n\u001b[0;31mSyntaxError\u001b[0m\u001b[0;31m:\u001b[0m invalid syntax\n"
     ]
    }
   ],
   "source": [
    "GTCACTGCACCCAGCCTATTGATTCAGGGGGCACGTGTCCATGTTTGTTACATGGCCATATTGCATAATAATGGAGATTGGGCTTCTAGTGTACCCATCGCCCAAACAGTGAACATTGTACCCAGTAGGTAGTTTTTCAACCCTCACCCATATCCCAGCCTCCAGTCTTTTGGAGTTCCCAGTGTCTATT\n",
    "GCCACCGCGCCCGGCC\n",
    "\n",
    "GC G\n",
    "GT GA\n"
   ]
  }
 ],
 "metadata": {
  "kernelspec": {
   "display_name": "Python 3.8.10 64-bit",
   "language": "python",
   "name": "python3"
  },
  "language_info": {
   "codemirror_mode": {
    "name": "ipython",
    "version": 3
   },
   "file_extension": ".py",
   "mimetype": "text/x-python",
   "name": "python",
   "nbconvert_exporter": "python",
   "pygments_lexer": "ipython3",
   "version": "3.8.10"
  },
  "orig_nbformat": 4,
  "vscode": {
   "interpreter": {
    "hash": "916dbcbb3f70747c44a77c7bcd40155683ae19c65e1c03b4aa3499c5328201f1"
   }
  }
 },
 "nbformat": 4,
 "nbformat_minor": 2
}
