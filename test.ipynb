{
 "cells": [
  {
   "cell_type": "code",
   "execution_count": 10,
   "metadata": {},
   "outputs": [],
   "source": [
    "import pysam\n",
    "import difflib"
   ]
  },
  {
   "cell_type": "code",
   "execution_count": 11,
   "metadata": {},
   "outputs": [],
   "source": [
    "REF_FASTA = '../insilico-builder/test_data/ref_38/hg38.fa'"
   ]
  },
  {
   "cell_type": "code",
   "execution_count": 12,
   "metadata": {},
   "outputs": [],
   "source": [
    "fasta = pysam.FastaFile(REF_FASTA)"
   ]
  },
  {
   "cell_type": "code",
   "execution_count": 196,
   "metadata": {},
   "outputs": [
    {
     "name": "stdout",
     "output_type": "stream",
     "text": [
      "aTCCCTATGCAGAGTAAGGGGAGATGGAAGAAACg\n",
      "aTTCTGATGGGGGAGATGGAAGAACAg\n",
      "  A|  T|+ T|- C|- C|  C|  T|+ G|  A|  T|  G|- C|- A|- G|- A|- G|- T|- A|- A|  G|  G|  G|  G|  A|  G|  A|  T|  G|  G|  A|  A|  G|  A|  A|+ C|  A|- C|  G\n",
      "10\t133662440\tC\tT\n",
      "10\t133662440\tTC\tT\n",
      "10\t133662443\tT\tTG\n",
      "10\t133662446\tGCAGAGTAA\tG\n",
      "10\t133662469\tA\tAC\n",
      "10\t133662470\tAC\tA\n"
     ]
    }
   ],
   "source": [
    "ref = 'TCCCTATGCAGAGTAAGGGGAGATGGAAGAAAC'\n",
    "alt = 'TTCTGATGGGGGAGATGGAAGAACA'\n",
    "pos = 133662439\n",
    "chrom = '10'\n",
    "padding = 1\n",
    "\n",
    "before = fasta.fetch(chrom, pos-padding-1, pos-1).lower()\n",
    "middle = fasta.fetch(chrom, pos-1, pos+len(ref)-1).upper()\n",
    "if middle != ref:\n",
    "    raise Exception('Reference mismatch')\n",
    "after = fasta.fetch(chrom, pos+len(ref)-1, pos+len(ref)+padding-1).lower()\n",
    "\n",
    "old = before + middle + after\n",
    "new = before + alt + after\n",
    "print(old)\n",
    "print(new)\n",
    "\n",
    "diff = difflib.ndiff(old.upper(), new.upper())\n",
    "print('|'.join(diff))\n",
    "diff = difflib.ndiff(old.upper(), new.upper())\n",
    "\n",
    "\n",
    "def complete_diff(chrom, pos, ref, alt, previous_seq):\n",
    "    if len(ref) > 1 and len(alt) > 1:\n",
    "        min_len = min(len(ref), len(alt))\n",
    "        for i in range(min_len):\n",
    "            if ref[i] != alt[i]:\n",
    "                print(f'{chrom}\\t{pos+i}\\t{ref[i]}\\t{alt[i]}')\n",
    "        if len(ref) == len(alt):\n",
    "            return\n",
    "        previous_seq = ref[:min_len] + previous_seq\n",
    "        ref = ref[min_len-1:]\n",
    "        alt = ref[0] + alt[min_len:]\n",
    "        pos = pos + i\n",
    "    if len(alt) > 1:\n",
    "        for i, previous_char in enumerate(previous_seq[::-1]):\n",
    "            if previous_char != alt[1]:\n",
    "                break\n",
    "        ref = pending_seq[-1-i]\n",
    "        alt = ref + alt[1:]\n",
    "        pos = pos - i\n",
    "    if len(ref) > 1:\n",
    "        for i, previous_char in enumerate(previous_seq[::-1]):\n",
    "            if previous_char + ref[:-1] != ref:\n",
    "                break\n",
    "        alt = pending_seq[-1-i]\n",
    "        ref = alt + ref[1:]\n",
    "        pos = pos - i\n",
    "    print(f'{chrom}\\t{pos}\\t{ref}\\t{alt}')\n",
    "\n",
    "\n",
    "variant_pos = pos - padding - 1\n",
    "ref_seq = ''\n",
    "alt_seq = ''\n",
    "pending_seq = ''\n",
    "for line in diff:\n",
    "    start_char, _, char = line\n",
    "    if start_char == ' ':\n",
    "        if len(ref_seq) > 1 or len(alt_seq) > 1:\n",
    "            # INS or DEL\n",
    "            complete_diff(chrom, variant_pos, ref_seq, alt_seq, pending_seq)\n",
    "            variant_pos += len(ref_seq) - 1\n",
    "        ref_seq = char\n",
    "        alt_seq = char\n",
    "        pending_seq += char\n",
    "        variant_pos += 1\n",
    "    elif start_char == '-':\n",
    "        ref_seq += char\n",
    "    elif start_char == '+':\n",
    "        alt_seq += char\n",
    "    else:\n",
    "        raise Exception('Unknown diff line' + line)\n",
    "\n",
    "if len(ref_seq) > 1 or len(alt_seq) > 1:\n",
    "    complete_diff(chrom, variant_pos, ref_seq, alt_seq, pending_seq)\n"
   ]
  },
  {
   "cell_type": "code",
   "execution_count": null,
   "metadata": {},
   "outputs": [],
   "source": []
  }
 ],
 "metadata": {
  "interpreter": {
   "hash": "916dbcbb3f70747c44a77c7bcd40155683ae19c65e1c03b4aa3499c5328201f1"
  },
  "kernelspec": {
   "display_name": "Python 3.8.10 64-bit",
   "language": "python",
   "name": "python3"
  },
  "language_info": {
   "codemirror_mode": {
    "name": "ipython",
    "version": 3
   },
   "file_extension": ".py",
   "mimetype": "text/x-python",
   "name": "python",
   "nbconvert_exporter": "python",
   "pygments_lexer": "ipython3",
   "version": "3.8.10"
  },
  "orig_nbformat": 4
 },
 "nbformat": 4,
 "nbformat_minor": 2
}
