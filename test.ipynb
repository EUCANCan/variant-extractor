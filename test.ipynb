{
 "cells": [
  {
   "cell_type": "code",
   "execution_count": 15,
   "metadata": {},
   "outputs": [],
   "source": [
    "import pysam\n",
    "import difflib\n",
    "from typing import NamedTuple"
   ]
  },
  {
   "cell_type": "code",
   "execution_count": 16,
   "metadata": {},
   "outputs": [],
   "source": [
    "REF_FASTA = '../insilico-builder/test_data/ref_38/hg38.fa'"
   ]
  },
  {
   "cell_type": "code",
   "execution_count": 17,
   "metadata": {},
   "outputs": [],
   "source": [
    "fasta = pysam.FastaFile(REF_FASTA)"
   ]
  },
  {
   "cell_type": "code",
   "execution_count": 18,
   "metadata": {},
   "outputs": [
    {
     "name": "stdout",
     "output_type": "stream",
     "text": [
      "gtgtatatatatgagtatatatatgtgtatatatatgagtatatatatgtGTAtatatatgagtatatatatgtgtatatatgagtatatatatgtgtatata\n",
      "gtgtatatatatgagtatatatatgtgtatatatatgagtatatatatgtGtatatatgagtatatatatgtgtatatatgagtatatatatgtgtatata\n",
      "- G|- T|- G|- T|- A|- T|- A|- T|- A|- T|- A|- T|- G|- A|- G|- T|- A|- T|- A|- T|- A|- T|- A|- T|  G|  T|  G|  T|  A|  T|  A|  T|  A|  T|  A|  T|  G|  A|  G|  T|  A|  T|  A|  T|  A|  T|  A|  T|  G|  T|  G|  T|  A|  T|  A|  T|  A|  T|  A|  T|  G|  A|  G|  T|  A|  T|  A|  T|  A|  T|  A|  T|  G|  T|  G|  T|  A|  T|  A|  T|  A|  T|  G|  A|  G|  T|  A|  T|  A|  T|  A|  T|  A|  T|  G|  T|  G|  T|  A|  T|  A|  T|  A|+ T|+ G|+ A|+ G|+ T|+ A|+ T|+ A|+ T|+ A|+ T|+ A|+ T|+ G|+ T|+ G|+ T|+ A|+ T|+ A|+ T|+ A\n",
      "1\t242393403\tGTGTATATATATGAGTATATATAT\t\n",
      "1\t242393456\tA\tATATATATGAGTATATATATGTG\n"
     ]
    }
   ],
   "source": [
    "# ref = 'TCAGTTACAGGGTGGGT'\n",
    "# alt = 'TAAAC'\n",
    "# pos = 16459345\n",
    "# chrom = '10'\n",
    "# ref = 'TCCCTATGCAGAGTAAGGGGAGATGGAAGAAAC'\n",
    "# alt = 'TTCTGATGGGGGAGATGGAAGAACA'\n",
    "# pos = 133662439\n",
    "# chrom = '10'\n",
    "# ref = 'GAGCG'\n",
    "# alt = 'GTT'\n",
    "# pos = 116367644\n",
    "# chrom = '10'\n",
    "# ref = 'TTTCAGATATAT'\n",
    "# alt = 'TCAAATATA'\n",
    "# pos = 54703779\n",
    "# chrom = '11'\n",
    "ref = 'GTA'\n",
    "alt = 'G'\n",
    "pos = 242393454\n",
    "chrom = '1'\n",
    "# ref = 'GAAAA'\n",
    "# alt = 'GGAT'\n",
    "# pos = 116518035\n",
    "# chrom = '10'\n",
    "\n",
    "padding = 50\n",
    "\n",
    "import variant_normalizator\n",
    "import importlib\n",
    "importlib.reload(variant_normalizator)\n",
    "\n",
    "normalizator = variant_normalizator.VariantNormalizator(REF_FASTA)\n",
    "\n",
    "variants = normalizator.normalize(chrom, pos, ref, alt)\n",
    "for variant in variants:\n",
    "    print(variant)"
   ]
  },
  {
   "cell_type": "code",
   "execution_count": 19,
   "metadata": {},
   "outputs": [
    {
     "ename": "FileNotFoundError",
     "evalue": "[Errno 2] No such file or directory: 'normalized.vcf'",
     "output_type": "error",
     "traceback": [
      "\u001b[0;31m---------------------------------------------------------------------------\u001b[0m",
      "\u001b[0;31mFileNotFoundError\u001b[0m                         Traceback (most recent call last)",
      "\u001b[1;32m/home/rapsss/variant-extractor/test.ipynb Cell 5'\u001b[0m in \u001b[0;36m<cell line: 1>\u001b[0;34m()\u001b[0m\n\u001b[0;32m----> <a href='vscode-notebook-cell://wsl%2Bubuntu-20.04/home/rapsss/variant-extractor/test.ipynb#ch0000008vscode-remote?line=0'>1</a>\u001b[0m \u001b[39mwith\u001b[39;00m \u001b[39mopen\u001b[39;49m(\u001b[39m'\u001b[39;49m\u001b[39mnormalized.vcf\u001b[39;49m\u001b[39m'\u001b[39;49m, \u001b[39m'\u001b[39;49m\u001b[39mr\u001b[39;49m\u001b[39m'\u001b[39;49m) \u001b[39mas\u001b[39;00m f:\n\u001b[1;32m      <a href='vscode-notebook-cell://wsl%2Bubuntu-20.04/home/rapsss/variant-extractor/test.ipynb#ch0000008vscode-remote?line=1'>2</a>\u001b[0m     \u001b[39mwith\u001b[39;00m \u001b[39mopen\u001b[39m(\u001b[39m'\u001b[39m\u001b[39mnormalized_plain.vcf\u001b[39m\u001b[39m'\u001b[39m, \u001b[39m'\u001b[39m\u001b[39mw\u001b[39m\u001b[39m'\u001b[39m) \u001b[39mas\u001b[39;00m f_out:\n\u001b[1;32m      <a href='vscode-notebook-cell://wsl%2Bubuntu-20.04/home/rapsss/variant-extractor/test.ipynb#ch0000008vscode-remote?line=2'>3</a>\u001b[0m         \u001b[39mfor\u001b[39;00m line \u001b[39min\u001b[39;00m f:\n",
      "\u001b[0;31mFileNotFoundError\u001b[0m: [Errno 2] No such file or directory: 'normalized.vcf'"
     ]
    }
   ],
   "source": [
    "with open('normalized.vcf', 'r') as f:\n",
    "    with open('normalized_plain.vcf', 'w') as f_out:\n",
    "        for line in f:\n",
    "            chrom, pos, _, ref, alt = line.strip().split('\\t')[:5]\n",
    "            chrom = chrom.replace('chr', '')\n",
    "            f_out.write(f'{chrom}\\t{pos}\\t{ref}\\t{alt}\\n')"
   ]
  }
 ],
 "metadata": {
  "interpreter": {
   "hash": "916dbcbb3f70747c44a77c7bcd40155683ae19c65e1c03b4aa3499c5328201f1"
  },
  "kernelspec": {
   "display_name": "Python 3.8.10 64-bit",
   "language": "python",
   "name": "python3"
  },
  "language_info": {
   "codemirror_mode": {
    "name": "ipython",
    "version": 3
   },
   "file_extension": ".py",
   "mimetype": "text/x-python",
   "name": "python",
   "nbconvert_exporter": "python",
   "pygments_lexer": "ipython3",
   "version": "3.8.10"
  },
  "orig_nbformat": 4
 },
 "nbformat": 4,
 "nbformat_minor": 2
}
