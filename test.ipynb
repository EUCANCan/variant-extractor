{
 "cells": [
  {
   "cell_type": "code",
   "execution_count": 2,
   "metadata": {},
   "outputs": [],
   "source": [
    "import pysam\n",
    "import difflib\n",
    "from typing import NamedTuple"
   ]
  },
  {
   "cell_type": "code",
   "execution_count": 3,
   "metadata": {},
   "outputs": [],
   "source": [
    "REF_FASTA = '../insilico-builder/test_data/ref_38/hg38.fa'"
   ]
  },
  {
   "cell_type": "code",
   "execution_count": 4,
   "metadata": {},
   "outputs": [],
   "source": [
    "fasta = pysam.FastaFile(REF_FASTA)"
   ]
  },
  {
   "cell_type": "code",
   "execution_count": 5,
   "metadata": {},
   "outputs": [
    {
     "name": "stdout",
     "output_type": "stream",
     "text": [
      "GTGTATATATATGAGTATATATATGTGTATATATATGAGTATATATATGTGTATATATATGAGTATATATATGTGTATATATGAGTATATATATGTGTATATA\n",
      "GTGTATATATATGAGTATATATATGTGTATATATATGAGTATATATATGTGTATATATGAGTATATATATGTGTATATATGAGTATATATATGTGTATATA\n",
      "- G|- T|- G|- T|- A|- T|- A|- T|- A|- T|- A|- T|- G|- A|- G|- T|- A|- T|- A|- T|- A|- T|- A|- T|  G|  T|  G|  T|  A|  T|  A|  T|  A|  T|  A|  T|  G|  A|  G|  T|  A|  T|  A|  T|  A|  T|  A|  T|  G|  T|  G|  T|  A|  T|  A|  T|  A|  T|  A|  T|  G|  A|  G|  T|  A|  T|  A|  T|  A|  T|  A|  T|  G|  T|  G|  T|  A|  T|  A|  T|  A|  T|  G|  A|  G|  T|  A|  T|  A|  T|  A|  T|  A|  T|  G|  T|  G|  T|  A|  T|  A|  T|  A|+ T|+ G|+ A|+ G|+ T|+ A|+ T|+ A|+ T|+ A|+ T|+ A|+ T|+ G|+ T|+ G|+ T|+ A|+ T|+ A|+ T|+ A\n",
      "1\t242393403\tGTGTATATATATGAGTATATATAT\t\n",
      "1\t242393456\tA\tATATATATGAGTATATATATGTG\n"
     ]
    }
   ],
   "source": [
    "# ref = 'TCAGTTACAGGGTGGGT'\n",
    "# alt = 'TAAAC'\n",
    "# pos = 16459345\n",
    "# chrom = '10'\n",
    "# ref = 'TCCCTATGCAGAGTAAGGGGAGATGGAAGAAAC'\n",
    "# alt = 'TTCTGATGGGGGAGATGGAAGAACA'\n",
    "# pos = 133662439\n",
    "# chrom = '10'\n",
    "# ref = 'GAGCG'\n",
    "# alt = 'GTT'\n",
    "# pos = 116367644\n",
    "# chrom = '10'\n",
    "# ref = 'TTTCAGATATAT'\n",
    "# alt = 'TCAAATATA'\n",
    "# pos = 54703779\n",
    "# chrom = '11'\n",
    "ref = 'GTA'\n",
    "alt = 'G'\n",
    "pos = 242393454\n",
    "chrom = '1'\n",
    "# ref = 'GAAAA'\n",
    "# alt = 'GGAT'\n",
    "# pos = 116518035\n",
    "# chrom = '10'\n",
    "\n",
    "padding = 50\n",
    "\n",
    "import variant_normalizator\n",
    "import importlib\n",
    "importlib.reload(variant_normalizator)\n",
    "\n",
    "normalizator = variant_normalizator.VariantNormalizator(REF_FASTA)\n",
    "\n",
    "variants = normalizator.normalize(chrom, pos, ref, alt)\n",
    "for variant in variants:\n",
    "    print(variant)"
   ]
  },
  {
   "cell_type": "code",
   "execution_count": 6,
   "metadata": {},
   "outputs": [],
   "source": [
    "FILE = 'tests/only_pass.vcf'\n",
    "OUT_FILE = 'tests/only_pass_plain.vcf'\n",
    "\n",
    "with open(FILE, 'r') as f:\n",
    "    with open(OUT_FILE, 'w') as f_out:\n",
    "        for line in f:\n",
    "            chrom, pos, _, ref, alt = line.strip().split('\\t')[:5]\n",
    "            chrom = chrom.replace('chr', '')\n",
    "            f_out.write(f'{chrom}\\t{pos}\\t{ref}\\t{alt}\\n')"
   ]
  }
 ],
 "metadata": {
  "interpreter": {
   "hash": "916dbcbb3f70747c44a77c7bcd40155683ae19c65e1c03b4aa3499c5328201f1"
  },
  "kernelspec": {
   "display_name": "Python 3.8.10 64-bit",
   "language": "python",
   "name": "python3"
  },
  "language_info": {
   "codemirror_mode": {
    "name": "ipython",
    "version": 3
   },
   "file_extension": ".py",
   "mimetype": "text/x-python",
   "name": "python",
   "nbconvert_exporter": "python",
   "pygments_lexer": "ipython3",
   "version": "3.8.10"
  },
  "orig_nbformat": 4
 },
 "nbformat": 4,
 "nbformat_minor": 2
}
